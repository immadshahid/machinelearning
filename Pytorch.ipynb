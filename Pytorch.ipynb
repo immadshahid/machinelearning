{
  "nbformat": 4,
  "nbformat_minor": 0,
  "metadata": {
    "colab": {
      "provenance": []
    },
    "kernelspec": {
      "name": "python3",
      "display_name": "Python 3"
    },
    "language_info": {
      "name": "python"
    }
  },
  "cells": [
    {
      "cell_type": "code",
      "execution_count": 1,
      "metadata": {
        "id": "Jf1YHE7QjxVa"
      },
      "outputs": [],
      "source": [
        "import torch\n",
        "import torch.nn as nn\n",
        "import torch.optim as optim\n",
        "from sklearn.datasets import make_regression\n",
        "from sklearn.model_selection import train_test_split\n",
        "from sklearn.preprocessing import StandardScaler\n",
        "import numpy as np"
      ]
    },
    {
      "cell_type": "code",
      "source": [
        "X, y = make_regression(n_samples=500, n_features=1, noise=10, random_state=42)\n",
        "X = X.astype(np.float32)\n",
        "y = y.astype(np.float32).reshape(-1, 1)"
      ],
      "metadata": {
        "id": "zVT_JRWhCsnY"
      },
      "execution_count": 2,
      "outputs": []
    },
    {
      "cell_type": "code",
      "source": [
        "X_train, X_test, y_train, y_test = train_test_split(X, y, test_size=0.2, random_state=42)"
      ],
      "metadata": {
        "id": "LaksqknuC2T2"
      },
      "execution_count": 3,
      "outputs": []
    },
    {
      "cell_type": "code",
      "source": [
        "scaler_X = StandardScaler()\n",
        "scaler_y = StandardScaler()\n",
        "X_train = scaler_X.fit_transform(X_train)\n",
        "X_test = scaler_X.transform(X_test)\n",
        "y_train = scaler_y.fit_transform(y_train)\n",
        "y_test = scaler_y.transform(y_test)\n"
      ],
      "metadata": {
        "id": "KhxDuIr3C5zc"
      },
      "execution_count": 4,
      "outputs": []
    },
    {
      "cell_type": "code",
      "source": [
        "X_train_tensor = torch.tensor(X_train)\n",
        "y_train_tensor = torch.tensor(y_train)\n",
        "X_test_tensor = torch.tensor(X_test)\n",
        "y_test_tensor = torch.tensor(y_test)"
      ],
      "metadata": {
        "id": "7CtuOszdC9Da"
      },
      "execution_count": 5,
      "outputs": []
    },
    {
      "cell_type": "code",
      "source": [
        "class LinearRegressionModel(nn.Module):\n",
        "    def __init__(self, input_dim, output_dim):\n",
        "        super(LinearRegressionModel, self).__init__()\n",
        "        self.linear = nn.Linear(input_dim, output_dim)  # Linear layer\n",
        "\n",
        "    def forward(self, x):\n",
        "        return self.linear(x)\n"
      ],
      "metadata": {
        "id": "ynArDh1uDAo1"
      },
      "execution_count": 6,
      "outputs": []
    },
    {
      "cell_type": "code",
      "source": [
        "input_dim = X_train.shape[1]  # Number of features\n",
        "output_dim = 1  # Single output\n",
        "model = LinearRegressionModel(input_dim, output_dim)"
      ],
      "metadata": {
        "id": "dDVEZvgxDDrR"
      },
      "execution_count": 7,
      "outputs": []
    },
    {
      "cell_type": "code",
      "source": [
        "criterion = nn.MSELoss()  # Mean Squared Error loss\n",
        "optimizer = optim.SGD(model.parameters(), lr=0.01)"
      ],
      "metadata": {
        "id": "-axIum4mDHw-"
      },
      "execution_count": 8,
      "outputs": []
    },
    {
      "cell_type": "code",
      "source": [
        "epochs = 1000\n",
        "for epoch in range(epochs):\n",
        "    # Forward pass\n",
        "    outputs = model(X_train_tensor)\n",
        "    loss = criterion(outputs, y_train_tensor)\n",
        "\n",
        "    # Backward pass and optimization\n",
        "    optimizer.zero_grad()  # Clear gradients\n",
        "    loss.backward()  # Compute gradients\n",
        "    optimizer.step()  # Update weights\n",
        "\n",
        "    # Print loss every 100 epochs\n",
        "    if (epoch + 1) % 100 == 0:\n",
        "        print(f'Epoch [{epoch+1}/{epochs}], Loss: {loss.item():.4f}')\n"
      ],
      "metadata": {
        "colab": {
          "base_uri": "https://localhost:8080/"
        },
        "id": "hYtpOl6yDLk1",
        "outputId": "3eab7be2-80b3-47ea-89b9-397753fabf2d"
      },
      "execution_count": 9,
      "outputs": [
        {
          "output_type": "stream",
          "name": "stdout",
          "text": [
            "Epoch [100/1000], Loss: 0.0508\n",
            "Epoch [200/1000], Loss: 0.0244\n",
            "Epoch [300/1000], Loss: 0.0240\n",
            "Epoch [400/1000], Loss: 0.0240\n",
            "Epoch [500/1000], Loss: 0.0240\n",
            "Epoch [600/1000], Loss: 0.0240\n",
            "Epoch [700/1000], Loss: 0.0240\n",
            "Epoch [800/1000], Loss: 0.0240\n",
            "Epoch [900/1000], Loss: 0.0240\n",
            "Epoch [1000/1000], Loss: 0.0240\n"
          ]
        }
      ]
    },
    {
      "cell_type": "code",
      "source": [
        "model.eval()  # Set model to evaluation mode\n",
        "with torch.no_grad():\n",
        "    predictions = model(X_test_tensor)\n",
        "    test_loss = criterion(predictions, y_test_tensor)\n",
        "    print(f'Test Loss: {test_loss.item():.4f}')"
      ],
      "metadata": {
        "colab": {
          "base_uri": "https://localhost:8080/"
        },
        "id": "Z_94FnF7DRo6",
        "outputId": "d5f9c7c6-abf5-4fdd-ab28-c04aff314f38"
      },
      "execution_count": 10,
      "outputs": [
        {
          "output_type": "stream",
          "name": "stdout",
          "text": [
            "Test Loss: 0.0221\n"
          ]
        }
      ]
    },
    {
      "cell_type": "code",
      "source": [
        "import matplotlib.pyplot as plt\n",
        "\n",
        "# Convert predictions and true values back to original scale\n",
        "predicted_values = scaler_y.inverse_transform(predictions.numpy())\n",
        "true_values = scaler_y.inverse_transform(y_test)\n"
      ],
      "metadata": {
        "id": "kuFhJcUbDVqv"
      },
      "execution_count": 11,
      "outputs": []
    },
    {
      "cell_type": "code",
      "source": [
        "plt.scatter(X_test, true_values, color='blue', label='Actual Data')\n",
        "plt.plot(X_test, predicted_values, color='red', label='Fitted Line')\n",
        "plt.xlabel('Feature')\n",
        "plt.ylabel('Target')\n",
        "plt.title('Linear Regression using PyTorch')\n",
        "plt.legend()\n",
        "plt.show()\n"
      ],
      "metadata": {
        "colab": {
          "base_uri": "https://localhost:8080/",
          "height": 492
        },
        "id": "khExglW2DZUD",
        "outputId": "a197b43f-83a0-4480-c7fb-580438c9f12f"
      },
      "execution_count": 12,
      "outputs": [
        {
          "output_type": "display_data",
          "data": {
            "text/plain": [
              "<Figure size 640x480 with 1 Axes>"
            ],
            "image/png": "[encoded data removed]"
          },
          "metadata": {}
        }
      ]
    },
    {
      "cell_type": "code",
      "source": [],
      "metadata": {
        "id": "Q09_YaIoDcWF"
      },
      "execution_count": null,
      "outputs": []
    }
  ]
}